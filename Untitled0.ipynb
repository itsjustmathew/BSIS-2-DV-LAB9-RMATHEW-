{
  "nbformat": 4,
  "nbformat_minor": 0,
  "metadata": {
    "colab": {
      "provenance": [],
      "authorship_tag": "ABX9TyPFoQoj890tKG7fIpliNLCb",
      "include_colab_link": true
    },
    "kernelspec": {
      "name": "python3",
      "display_name": "Python 3"
    },
    "language_info": {
      "name": "python"
    }
  },
  "cells": [
    {
      "cell_type": "markdown",
      "metadata": {
        "id": "view-in-github",
        "colab_type": "text"
      },
      "source": [
        "<a href=\"https://colab.research.google.com/github/itsjustmathew/BSIS-2-DV-LAB9-RMATHEW-/blob/main/Untitled0.ipynb\" target=\"_parent\"><img src=\"https://colab.research.google.com/assets/colab-badge.svg\" alt=\"Open In Colab\"/></a>"
      ]
    },
    {
      "cell_type": "code",
      "execution_count": 1,
      "metadata": {
        "colab": {
          "base_uri": "https://localhost:8080/"
        },
        "id": "ZhZ_HBmOPMbc",
        "outputId": "d0f33582-ff0e-4722-d598-5c386c1c655d"
      },
      "outputs": [
        {
          "output_type": "stream",
          "name": "stdout",
          "text": [
            "(1, 22, 8, 10)\n",
            "(1, 22, 8, 10)\n"
          ]
        }
      ],
      "source": [
        "z = (1, 22, 8, 10)\n",
        "print(z)\n",
        "z = 1, 22, 8, 10\n",
        "print(z)"
      ]
    },
    {
      "cell_type": "code",
      "source": [
        "tup1 = ('Mat',)\n",
        "tup2 = 'Mat',\n",
        "notTuple = ('Mat')\n",
        "print(type(notTuple) )"
      ],
      "metadata": {
        "colab": {
          "base_uri": "https://localhost:8080/"
        },
        "id": "dEreyveGPaGB",
        "outputId": "6f46b5d3-4185-438f-a626-6dbd853f5169"
      },
      "execution_count": 2,
      "outputs": [
        {
          "output_type": "stream",
          "name": "stdout",
          "text": [
            "<class 'str'>\n"
          ]
        }
      ]
    },
    {
      "cell_type": "code",
      "source": [
        "z = (\"kyrie\", 22, 8, 10)\n",
        "print(z[0])"
      ],
      "metadata": {
        "colab": {
          "base_uri": "https://localhost:8080/"
        },
        "id": "irIjXQ3mPhGa",
        "outputId": "5d13a44a-3ee9-4673-fa7b-48c64aef7cbd"
      },
      "execution_count": 3,
      "outputs": [
        {
          "output_type": "stream",
          "name": "stdout",
          "text": [
            "kyrie\n"
          ]
        }
      ]
    },
    {
      "cell_type": "code",
      "source": [
        "\n",
        "z = (1, 22, 8, \"Kyrie\")\n",
        "print(z[-1])"
      ],
      "metadata": {
        "colab": {
          "base_uri": "https://localhost:8080/"
        },
        "id": "Z4opiPRRPola",
        "outputId": "842882b3-1bb9-474f-dcb5-9c3331ea34b6"
      },
      "execution_count": 7,
      "outputs": [
        {
          "output_type": "stream",
          "name": "stdout",
          "text": [
            "Kyrie\n"
          ]
        }
      ]
    },
    {
      "cell_type": "code",
      "source": [
        "z = (\"Ohma\", \"Mat\", 8, 10)\n",
        "print(z[0:2])"
      ],
      "metadata": {
        "colab": {
          "base_uri": "https://localhost:8080/"
        },
        "id": "X-hlnzu9P3Kx",
        "outputId": "42471b81-67bf-47b5-bd80-1ccace260e16"
      },
      "execution_count": 8,
      "outputs": [
        {
          "output_type": "stream",
          "name": "stdout",
          "text": [
            "('Ohma', 'Mat')\n"
          ]
        }
      ]
    },
    {
      "cell_type": "code",
      "source": [
        "z = (\"15\", \"Assassin\", \"Mat\", 10)\n",
        "print(z[:3])"
      ],
      "metadata": {
        "colab": {
          "base_uri": "https://localhost:8080/"
        },
        "id": "JFdxWhTGQEF1",
        "outputId": "10273bf5-43f5-426f-ca19-43a55dae2fa2"
      },
      "execution_count": 9,
      "outputs": [
        {
          "output_type": "stream",
          "name": "stdout",
          "text": [
            "('15', 'Assassin', 'Mat')\n"
          ]
        }
      ]
    },
    {
      "cell_type": "code",
      "source": [
        "z = (1, 22, \"Mat\", \"mat\")\n",
        "print(z[-4:-1])"
      ],
      "metadata": {
        "colab": {
          "base_uri": "https://localhost:8080/"
        },
        "id": "km7CFQtHQO0s",
        "outputId": "de92ada2-d540-4639-f47c-488866dd007d"
      },
      "execution_count": 10,
      "outputs": [
        {
          "output_type": "stream",
          "name": "stdout",
          "text": [
            "(1, 22, 'Mat')\n"
          ]
        }
      ]
    },
    {
      "cell_type": "code",
      "source": [
        "tup1 = ('Software Engineer', 'Data Analysts')\n",
        "\n",
        "tup2 = ('Full Stack Developer',)\n",
        "\n",
        "new_tuple = tup1 + tup2;\n",
        "print(new_tuple)"
      ],
      "metadata": {
        "colab": {
          "base_uri": "https://localhost:8080/"
        },
        "id": "gPOsoI7gQYJm",
        "outputId": "c3aa5557-8a78-4adb-8e79-4bc2177dbd2d"
      },
      "execution_count": 12,
      "outputs": [
        {
          "output_type": "stream",
          "name": "stdout",
          "text": [
            "('Software Engineer', 'Data Analysts', 'Full Stack Developer')\n"
          ]
        }
      ]
    },
    {
      "cell_type": "code",
      "source": [
        "a, b, c, d = (1, 22, 8, 10)\n",
        "print(a)\n",
        "print(b)\n",
        "print(c)\n",
        "print(d)"
      ],
      "metadata": {
        "colab": {
          "base_uri": "https://localhost:8080/"
        },
        "id": "T0OCf0sbQrrG",
        "outputId": "ce3c8af8-3b9b-467b-dfcd-ebc2e3794fa3"
      },
      "execution_count": 13,
      "outputs": [
        {
          "output_type": "stream",
          "name": "stdout",
          "text": [
            "1\n",
            "22\n",
            "8\n",
            "10\n"
          ]
        }
      ]
    },
    {
      "cell_type": "code",
      "source": [
        "Guns = ('Kickpad', 'Gloves', 'Head Gear', 'Shin Gear', 'Punching Bag')\n",
        "for index, Gloves in enumerate(Guns):\n",
        " print(index,Gloves)"
      ],
      "metadata": {
        "colab": {
          "base_uri": "https://localhost:8080/"
        },
        "id": "WhED-tAbQvfo",
        "outputId": "44eeaf66-93b9-47cd-e7de-5748a0687256"
      },
      "execution_count": 14,
      "outputs": [
        {
          "output_type": "stream",
          "name": "stdout",
          "text": [
            "0 Kickpad\n",
            "1 Gloves\n",
            "2 Head Gear\n",
            "3 Shin Gear\n",
            "4 Punching Bag\n"
          ]
        }
      ]
    },
    {
      "cell_type": "code",
      "source": [
        "animals = (\"Horse\", \"Lynx\", \"Cat\")\n",
        "print(animals.index('Lynx'))"
      ],
      "metadata": {
        "colab": {
          "base_uri": "https://localhost:8080/"
        },
        "id": "ZWgU-oItRHHR",
        "outputId": "7ff637a1-2904-485d-8ded-122f69880dd2"
      },
      "execution_count": 16,
      "outputs": [
        {
          "output_type": "stream",
          "name": "stdout",
          "text": [
            "1\n"
          ]
        }
      ]
    },
    {
      "cell_type": "code",
      "source": [
        "import timeit\n",
        "print(timeit.timeit('x=(1,2,3,4,5,6,7,8,9,10,11,12)', number=1000))\n",
        "print(timeit.timeit('x=[1,2,3,4,5,6,7,8,9,10,11,12]', number=1))"
      ],
      "metadata": {
        "colab": {
          "base_uri": "https://localhost:8080/"
        },
        "id": "QTHE9KUyRVul",
        "outputId": "59779069-ab8e-43a1-d7c3-d632bf20e91f"
      },
      "execution_count": 17,
      "outputs": [
        {
          "output_type": "stream",
          "name": "stdout",
          "text": [
            "3.440199998294702e-05\n",
            "1.0279999287376995e-06\n"
          ]
        }
      ]
    }
  ]
}